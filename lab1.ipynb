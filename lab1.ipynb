{
 "cells": [
  {
   "cell_type": "markdown",
   "metadata": {},
   "source": [
    "# Task 1\n"
   ]
  },
  {
   "cell_type": "code",
   "execution_count": 5,
   "metadata": {},
   "outputs": [
    {
     "name": "stdout",
     "output_type": "stream",
     "text": [
      "Zhanerke,your mail adress:zhanerke0011@list.ru\n"
     ]
    }
   ],
   "source": [
    "print(\"Zhanerke,your mail adress:zhanerke0011@list.ru\")"
   ]
  },
  {
   "cell_type": "markdown",
   "metadata": {},
   "source": [
    "# task2\n",
    "\n"
   ]
  },
  {
   "cell_type": "code",
   "execution_count": 6,
   "metadata": {},
   "outputs": [
    {
     "name": "stdout",
     "output_type": "stream",
     "text": [
      "Please,write you name here:Zhanerke\n",
      "Hello,Zhanerke\n"
     ]
    }
   ],
   "source": [
    "message = input(\"Please,write you name here:\")\n",
    "print(\"Hello,\" + message)"
   ]
  },
  {
   "cell_type": "markdown",
   "metadata": {},
   "source": [
    "# task3\n"
   ]
  },
  {
   "cell_type": "code",
   "execution_count": 10,
   "metadata": {},
   "outputs": [
    {
     "name": "stdout",
     "output_type": "stream",
     "text": [
      "2.1\n",
      "4.5\n",
      "9.450000000000001 meter\n"
     ]
    }
   ],
   "source": [
    "width = float(input())\n",
    "length = float(input())\n",
    "area = width * length \n",
    "print(area,\"meter\")"
   ]
  },
  {
   "cell_type": "markdown",
   "metadata": {},
   "source": [
    "# task4\n"
   ]
  },
  {
   "cell_type": "code",
   "execution_count": 11,
   "metadata": {},
   "outputs": [
    {
     "name": "stdout",
     "output_type": "stream",
     "text": [
      "345\n",
      "567\n",
      "8520989400 acres\n"
     ]
    }
   ],
   "source": [
    "w = int(input())\n",
    "l = int(input())\n",
    "a = w*l\n",
    "result = a * 43560\n",
    "print(result,\"acres\")"
   ]
  },
  {
   "cell_type": "markdown",
   "metadata": {},
   "source": [
    "# task5\n"
   ]
  },
  {
   "cell_type": "code",
   "execution_count": 12,
   "metadata": {},
   "outputs": [
    {
     "name": "stdout",
     "output_type": "stream",
     "text": [
      "7\n",
      "2\n",
      "1.75 $\n"
     ]
    }
   ],
   "source": [
    "n = int(input())\n",
    "size = float(input())\n",
    "if size <= 1 :\n",
    "    dep = 0.10 * n\n",
    "    print(\"{:.2f}\".format(dep),\"$\")\n",
    "elif size > 1:\n",
    "    dep = 0.25 * n\n",
    "    print(\"{:.2f}\".format(dep),\"$\")"
   ]
  },
  {
   "cell_type": "markdown",
   "metadata": {},
   "source": [
    "# task6"
   ]
  },
  {
   "cell_type": "code",
   "execution_count": 1,
   "metadata": {},
   "outputs": [
    {
     "name": "stdout",
     "output_type": "stream",
     "text": [
      "5000\n",
      "Tax: 500.0\n",
      "Tips : 900.0\n",
      "Sum: 6400.0\n"
     ]
    }
   ],
   "source": [
    "meal = int(input())\n",
    "tax =  meal * 0.1 \n",
    "tip = meal *0.18\n",
    "result = meal+tax+tip\n",
    "print(\"Tax:\",tax)\n",
    "print(\"Tips :\", tip)\n",
    "print(\"Sum:\",result)"
   ]
  },
  {
   "cell_type": "markdown",
   "metadata": {},
   "source": [
    "# task7\n"
   ]
  },
  {
   "cell_type": "code",
   "execution_count": 4,
   "metadata": {},
   "outputs": [
    {
     "name": "stdout",
     "output_type": "stream",
     "text": [
      "Write the positive number:5\n",
      "15.0\n"
     ]
    }
   ],
   "source": [
    "n = int(input(\"Write the positive number:\"))\n",
    "sum = n* (n + 1)/2\n",
    "print(sum)\n"
   ]
  },
  {
   "cell_type": "markdown",
   "metadata": {},
   "source": [
    "# task7.a\n"
   ]
  },
  {
   "cell_type": "code",
   "execution_count": 6,
   "metadata": {},
   "outputs": [
    {
     "name": "stdout",
     "output_type": "stream",
     "text": [
      "Write the positive number:5\n",
      "15\n"
     ]
    }
   ],
   "source": [
    "n = int(input(\"Write the positive number:\"))\n",
    "sum = 0 \n",
    "for i in range(1, n + 1):\n",
    "    sum += i\n",
    "print(sum)\n",
    "    \n"
   ]
  },
  {
   "cell_type": "markdown",
   "metadata": {},
   "source": [
    "# task8"
   ]
  },
  {
   "cell_type": "code",
   "execution_count": 7,
   "metadata": {},
   "outputs": [
    {
     "name": "stdout",
     "output_type": "stream",
     "text": [
      "widgets:1\n",
      "gizmos:3\n",
      "411 gram\n"
     ]
    }
   ],
   "source": [
    "w = int(input(\"widgets:\"))\n",
    "g = int(input(\"gizmos:\"))\n",
    "sum1 = w * 75\n",
    "sum2 = g * 112\n",
    "sum = sum1 + sum2\n",
    "print(sum,\"grams\")"
   ]
  },
  {
   "cell_type": "markdown",
   "metadata": {},
   "source": [
    "# task9"
   ]
  },
  {
   "cell_type": "code",
   "execution_count": 8,
   "metadata": {},
   "outputs": [
    {
     "name": "stdout",
     "output_type": "stream",
     "text": [
      "WRITE down the amount you deposited to the invoice:1000000\n",
      "In first year your invoice will be: 1040000.0\n",
      "In second year your invoice will be: 1080000.0\n",
      "In third year your invoice will be: 1120000.0\n"
     ]
    }
   ],
   "source": [
    "sum = int(input(\"WRITE down the amount you deposited to the invoice:\"))\n",
    "deposite = sum * 0.04\n",
    "first = sum + deposite\n",
    "second = sum + (2*deposite)\n",
    "third = sum + (3*deposite)\n",
    "print(\"In first year your invoice will be:\",first)\n",
    "print(\"In second year your invoice will be:\",second)\n",
    "print(\"In third year your invoice will be:\",third)"
   ]
  },
  {
   "cell_type": "markdown",
   "metadata": {},
   "source": [
    "# task 10"
   ]
  },
  {
   "cell_type": "code",
   "execution_count": 19,
   "metadata": {},
   "outputs": [
    {
     "name": "stdout",
     "output_type": "stream",
     "text": [
      "5\n",
      "6\n",
      "The sum is: 11\n",
      "The difference: 1\n",
      "The product: 30\n",
      "The quotient: 0.8333333333333334\n",
      "The remainder: 5\n",
      "The result of log10 a: 0.6989700043360187\n"
     ]
    }
   ],
   "source": [
    "import math\n",
    "a = int(input())\n",
    "b = int(input())\n",
    "print(\"The sum is:\",a + b)\n",
    "print(\"The difference:\",b - a)\n",
    "print(\"The product:\", a*b)\n",
    "print(\"The quotient:\", a/b)\n",
    "print(\"The remainder:\",a%b)\n",
    "print(\"The result of log10 a:\", math.log(a,10))"
   ]
  },
  {
   "cell_type": "markdown",
   "metadata": {},
   "source": [
    "# task11\n"
   ]
  },
  {
   "cell_type": "code",
   "execution_count": 2,
   "metadata": {},
   "outputs": [
    {
     "name": "stdout",
     "output_type": "stream",
     "text": [
      "24\n",
      "9800607.62 /100km\n"
     ]
    }
   ],
   "source": [
    "mill = int(input())\n",
    "canadas = 235214583 / mill\n",
    "print(\"{:.2f}\".format(canadas) , \"/100km\")"
   ]
  },
  {
   "cell_type": "markdown",
   "metadata": {},
   "source": [
    "# task 12"
   ]
  },
  {
   "cell_type": "code",
   "execution_count": 3,
   "metadata": {},
   "outputs": [
    {
     "name": "stdout",
     "output_type": "stream",
     "text": [
      "45\n",
      "60\n",
      "120\n",
      "90\n",
      "2589.036904517673 kilometers\n"
     ]
    }
   ],
   "source": [
    "import math\n",
    "\n",
    "t1 = int(input())\n",
    "t2 = int(input())\n",
    "g1 = int(input())\n",
    "g2 = int(input())\n",
    "\n",
    "t1tor = t1*(math.pi/180)\n",
    "t2tor = t2*(math.pi/180)\n",
    "g1tor = g1*(math.pi/180)\n",
    "g2tor = g2*(math.pi/180)\n",
    "\n",
    "\n",
    "distance = 6371.01 * (math.acos((math.sin(t1tor))*(math.sin(t2tor))+(math.cos(t1tor))*( math.cos(t2tor))*(math.cos(g1tor - g2tor))))\n",
    "print(distance,\"kilometers\")"
   ]
  },
  {
   "cell_type": "markdown",
   "metadata": {},
   "source": [
    "# task 13"
   ]
  },
  {
   "cell_type": "code",
   "execution_count": 6,
   "metadata": {},
   "outputs": [
    {
     "name": "stdout",
     "output_type": "stream",
     "text": [
      "Enter the mass of the water in milligrams: 9\n",
      "Enter the change of the Temperature: 8\n",
      "Total amount of energy:  301.392  Joules\n",
      "Electricity costs: 0.00\n"
     ]
    }
   ],
   "source": [
    "massa = float(input(\"Enter the mass of the water in milligrams: \"))\n",
    "\n",
    "t = float(input(\"Enter the change of the Temperature: \"))\n",
    "specific_heat = 4.186\n",
    "density = 1\n",
    "el_kwh = 8.9\n",
    "q = specific_heat*massa*t\n",
    "print(\"Total amount of energy: \", q, \" Joules\")\n",
    "kwh = el_kwh*(q/(3.6*1000000))\n",
    "print(\"Electricity costs: %.2f\" % kwh)"
   ]
  },
  {
   "cell_type": "markdown",
   "metadata": {},
   "source": [
    "# task14\n"
   ]
  },
  {
   "cell_type": "code",
   "execution_count": 5,
   "metadata": {},
   "outputs": [
    {
     "name": "stdout",
     "output_type": "stream",
     "text": [
      "we want to know about your height.Please input the numbers.\n",
      "foot:0\n",
      "inches:76\n",
      "Your height:  193.04 cm\n"
     ]
    }
   ],
   "source": [
    "print(\"we want to know about your height.Please input the numbers.\")\n",
    "f = int(input(\"foot:\"))\n",
    "i = int(input(\"inches:\"))\n",
    "\n",
    "ftoi = f * 12\n",
    "itoi = ftoi + i \n",
    "cm = itoi * 2.54\n",
    "print(\"Your height: \",cm,\"cm\" )"
   ]
  },
  {
   "cell_type": "markdown",
   "metadata": {},
   "source": [
    "# task 15\n"
   ]
  },
  {
   "cell_type": "code",
   "execution_count": 6,
   "metadata": {},
   "outputs": [
    {
     "name": "stdout",
     "output_type": "stream",
     "text": [
      "45\n",
      "Inches: 540\n",
      "Yard: 14.999999999999849\n",
      "Miles: 540000\n"
     ]
    }
   ],
   "source": [
    "foot = int(input())\n",
    "print(\"Inches:\" , foot * 12)\n",
    "print(\"Yard:\", foot * 0.33333333333333)\n",
    "print(\"Miles:\" , foot * 12000)"
   ]
  },
  {
   "cell_type": "markdown",
   "metadata": {},
   "source": [
    "# task 16"
   ]
  },
  {
   "cell_type": "code",
   "execution_count": 9,
   "metadata": {},
   "outputs": [
    {
     "name": "stdout",
     "output_type": "stream",
     "text": [
      "2\n",
      "Area: 50.26548245743669\n",
      "Volume: 33.510321638291124\n"
     ]
    }
   ],
   "source": [
    "import math\n",
    "r = int(input())\n",
    "a = 4 * (math.pi) * (r**2)\n",
    "v = (4/3)* (math.pi) * (r**3)\n",
    "print(\"Area:\" , a)\n",
    "print(\"Volume:\", v)\n",
    "\n"
   ]
  },
  {
   "cell_type": "markdown",
   "metadata": {},
   "source": [
    "# task17"
   ]
  },
  {
   "cell_type": "code",
   "execution_count": 6,
   "metadata": {},
   "outputs": [
    {
     "name": "stdout",
     "output_type": "stream",
     "text": [
      "5\n",
      "67\n",
      "0.003466824717902 cents\n"
     ]
    }
   ],
   "source": [
    "mass = int(input())\n",
    "temp = int(input())\n",
    "C = 4.186\n",
    "q = C * mass * temp * 2.77778e-7 * 8.9\n",
    "print(q, \"cents\")"
   ]
  },
  {
   "cell_type": "markdown",
   "metadata": {},
   "source": [
    "# task 18"
   ]
  },
  {
   "cell_type": "code",
   "execution_count": 12,
   "metadata": {},
   "outputs": [
    {
     "name": "stdout",
     "output_type": "stream",
     "text": [
      "3\n",
      "4\n",
      "Volume: 113.09733552923255\n"
     ]
    }
   ],
   "source": [
    "import math\n",
    "r = int(input())\n",
    "h = int(input())\n",
    "V = (math.pi)*(r**2)*h\n",
    "print(\"Volume:\", V)"
   ]
  },
  {
   "cell_type": "markdown",
   "metadata": {},
   "source": [
    "# task 19"
   ]
  },
  {
   "cell_type": "code",
   "execution_count": 8,
   "metadata": {},
   "outputs": [
    {
     "name": "stdout",
     "output_type": "stream",
     "text": [
      "35\n",
      "7\n",
      "1362\n"
     ]
    }
   ],
   "source": [
    "height = int(input())\n",
    "distance = int(input())\n",
    "accel = 9.8\n",
    "vf = int(height * height + 2* accel* distance)\n",
    "print(vf)"
   ]
  },
  {
   "cell_type": "markdown",
   "metadata": {},
   "source": [
    "# task 20"
   ]
  },
  {
   "cell_type": "code",
   "execution_count": 11,
   "metadata": {},
   "outputs": [
    {
     "name": "stdout",
     "output_type": "stream",
     "text": [
      "12\n",
      "3\n",
      "0.027621304691424445\n"
     ]
    }
   ],
   "source": [
    "P =int(input())\n",
    "V = int(input())\n",
    "T = 293.15\n",
    "R = 8.314\n",
    "n = (P* V / (R*T))*1.87\n",
    "print(n)"
   ]
  },
  {
   "cell_type": "markdown",
   "metadata": {},
   "source": [
    "#  task 21\n"
   ]
  },
  {
   "cell_type": "code",
   "execution_count": 13,
   "metadata": {},
   "outputs": [
    {
     "name": "stdout",
     "output_type": "stream",
     "text": [
      "2\n",
      "3\n",
      "Area of traingle: 3.0\n"
     ]
    }
   ],
   "source": [
    "b = int(input())\n",
    "h = int(input())\n",
    "a = b * (h / 2)\n",
    "print(\"Area of traingle:\", a)\n"
   ]
  },
  {
   "cell_type": "markdown",
   "metadata": {},
   "source": [
    "# task 22"
   ]
  },
  {
   "cell_type": "code",
   "execution_count": 17,
   "metadata": {},
   "outputs": [
    {
     "name": "stdout",
     "output_type": "stream",
     "text": [
      "5\n",
      "12\n",
      "13\n",
      "Area: 30.0\n"
     ]
    }
   ],
   "source": [
    "import math\n",
    "s1 = int(input())\n",
    "s2 = int(input())\n",
    "s3 = int(input())\n",
    "s = (s1+s2+s3)/2\n",
    "a = math.sqrt(s*(s - s1)*(s-s2)*(s-s3))\n",
    "print(\"Area:\", a)"
   ]
  },
  {
   "cell_type": "markdown",
   "metadata": {},
   "source": [
    "# task 23\n"
   ]
  },
  {
   "cell_type": "code",
   "execution_count": 18,
   "metadata": {},
   "outputs": [
    {
     "name": "stdout",
     "output_type": "stream",
     "text": [
      "5\n",
      "6\n",
      "64.9519052838329\n"
     ]
    }
   ],
   "source": [
    "import math\n",
    "s = int(input())\n",
    "n = int(input())\n",
    "fortg =4 * math.tan(math.pi/n)\n",
    "usti = n * (s**2)\n",
    "a = usti / fortg\n",
    "print(a)"
   ]
  },
  {
   "cell_type": "markdown",
   "metadata": {},
   "source": [
    "# task 24"
   ]
  },
  {
   "cell_type": "code",
   "execution_count": 20,
   "metadata": {},
   "outputs": [
    {
     "name": "stdout",
     "output_type": "stream",
     "text": [
      "1\n",
      "3\n",
      "34\n",
      "23\n",
      "all sec: 99263\n"
     ]
    }
   ],
   "source": [
    "d = int(input())\n",
    "h = int(input())\n",
    "mn = int(input())\n",
    "sec = int(input())\n",
    "dtos = d *  86400\n",
    "htos = h * 3600\n",
    "mtos = mn * 60\n",
    "total = dtos + htos + mtos +sec\n",
    "print(\"all sec:\",total)"
   ]
  },
  {
   "cell_type": "markdown",
   "metadata": {},
   "source": [
    "# task 25"
   ]
  },
  {
   "cell_type": "code",
   "execution_count": 1,
   "metadata": {},
   "outputs": [
    {
     "name": "stdout",
     "output_type": "stream",
     "text": [
      "Enter number of seconds: 2637\n",
      "The duration is:  0:00:43:57\n"
     ]
    }
   ],
   "source": [
    "SECONDS_PER_MINUTE  = 60\n",
    "SECONDS_PER_HOUR    = 3600\n",
    "SECONDS_PER_DAY     = 86400\n",
    " \n",
    "seconds = int(input(\"Enter number of seconds: \"))\n",
    " \n",
    "days = seconds / SECONDS_PER_DAY\n",
    "seconds = seconds % SECONDS_PER_DAY\n",
    " \n",
    "hours = seconds / SECONDS_PER_HOUR\n",
    "seconds = seconds % SECONDS_PER_HOUR\n",
    " \n",
    "minutes = seconds / SECONDS_PER_MINUTE\n",
    "seconds = seconds % SECONDS_PER_MINUTE\n",
    " \n",
    "\n",
    "print(\"The duration is: \",\"%d:%02d:%02d:%02d\"%(days,hours,minutes,seconds))"
   ]
  },
  {
   "cell_type": "markdown",
   "metadata": {},
   "source": [
    "# task 26"
   ]
  },
  {
   "cell_type": "code",
   "execution_count": 5,
   "metadata": {},
   "outputs": [
    {
     "name": "stdout",
     "output_type": "stream",
     "text": [
      "Right now: Tue Sep  8 23:15:42 2020 \n"
     ]
    }
   ],
   "source": [
    "import time\n",
    "\n",
    "t = time.localtime()\n",
    "print(\"Right now: %s \" % time.asctime(t))"
   ]
  },
  {
   "cell_type": "markdown",
   "metadata": {},
   "source": [
    "# task 27\n"
   ]
  },
  {
   "cell_type": "code",
   "execution_count": 12,
   "metadata": {},
   "outputs": [
    {
     "name": "stdout",
     "output_type": "stream",
     "text": [
      "4665\n",
      "4\n",
      "1.8380473503973055e-07\n"
     ]
    }
   ],
   "source": [
    "h = int(input())\n",
    "w = int(input())\n",
    "BMI = w / (h**2)\n",
    "print(BMI)"
   ]
  },
  {
   "cell_type": "markdown",
   "metadata": {},
   "source": [
    "# task 28"
   ]
  },
  {
   "cell_type": "code",
   "execution_count": 13,
   "metadata": {},
   "outputs": [
    {
     "name": "stdout",
     "output_type": "stream",
     "text": [
      "9\n"
     ]
    }
   ],
   "source": [
    "import math\n",
    "v = 4.8\n",
    "t = 10\n",
    "WCI = int(13.12 + (0.6215 * t) - (11.37 * math.pow(v, 0.16)) + (0.3965 * t * math.pow(v, 0.16)))\n",
    "print(WCI)"
   ]
  },
  {
   "cell_type": "markdown",
   "metadata": {},
   "source": [
    "# task 29"
   ]
  },
  {
   "cell_type": "code",
   "execution_count": 26,
   "metadata": {},
   "outputs": [
    {
     "name": "stdout",
     "output_type": "stream",
     "text": [
      "34\n",
      "Kelvin: 307.15\n",
      "Fahrenheit: 93.2\n"
     ]
    }
   ],
   "source": [
    "C = int(input())\n",
    "k = C + 273.15\n",
    "f = C *(9/5) + 32\n",
    "print(\"Kelvin:\", k)\n",
    "print(\"Fahrenheit:\" ,f)"
   ]
  },
  {
   "cell_type": "markdown",
   "metadata": {},
   "source": [
    "# task 30\n"
   ]
  },
  {
   "cell_type": "code",
   "execution_count": 16,
   "metadata": {},
   "outputs": [
    {
     "name": "stdout",
     "output_type": "stream",
     "text": [
      "9\n",
      "pounds per square inch: 1.305342\n",
      "millimeters of mercury: 67.50558\n",
      "atmospheres: 0.08882307\n"
     ]
    }
   ],
   "source": [
    "p = int(input())\n",
    "i = p * 0.145038\n",
    "m = p * 7.50062\n",
    "a = p * 0.00986923\n",
    "print(\"pounds per square inch:\",i)\n",
    "print(\"millimeters of mercury:\",m)\n",
    "print(\"atmospheres:\",a)"
   ]
  },
  {
   "cell_type": "markdown",
   "metadata": {},
   "source": [
    "# task 31"
   ]
  },
  {
   "cell_type": "code",
   "execution_count": 2,
   "metadata": {},
   "outputs": [
    {
     "name": "stdout",
     "output_type": "stream",
     "text": [
      "3141\n",
      "9\n"
     ]
    }
   ],
   "source": [
    "n = int(input())\n",
    "sum = 0\n",
    "while (n > 0):\n",
    "    sum = sum + int(n%10)\n",
    "    n = int(n/10)\n",
    "print(sum)"
   ]
  },
  {
   "cell_type": "markdown",
   "metadata": {},
   "source": [
    "# task 32"
   ]
  },
  {
   "cell_type": "code",
   "execution_count": 4,
   "metadata": {},
   "outputs": [
    {
     "name": "stdout",
     "output_type": "stream",
     "text": [
      "3\n",
      "4\n",
      "5\n",
      "Sum of all values: 20\n",
      "the minimum value: 3\n",
      "and the maximum value: 5\n"
     ]
    }
   ],
   "source": [
    "e = int(input())\n",
    "i = int(input()) \n",
    "o = int(input())\n",
    "mx = max(e,i,o)\n",
    "mn= min(e,i,o)\n",
    "summa = e + i + o + mx + mn\n",
    "print(\"Sum of all values:\",summa)\n",
    "print(\"the minimum value:\",mn)\n",
    "print(\"and the maximum value:\", mx)"
   ]
  },
  {
   "cell_type": "markdown",
   "metadata": {},
   "source": [
    "# task 33\n"
   ]
  },
  {
   "cell_type": "code",
   "execution_count": 18,
   "metadata": {},
   "outputs": [
    {
     "name": "stdout",
     "output_type": "stream",
     "text": [
      "4\n",
      "Regular price for the bread: $3.49\n",
      "The discount (because it is a old bread): 60%\n",
      "Total: 5.58\n"
     ]
    }
   ],
   "source": [
    "n = int(input())\n",
    "t1 = 3.49 * n\n",
    "t2 = t1 * 0.6\n",
    "t3 = t1 - t2\n",
    "print(\"Regular price for the bread: $3.49\")\n",
    "print(\"The discount (because it is a old bread): 60%\")\n",
    "print(\"Total:\", \"{:.2f}\".format(t3) )"
   ]
  }
 ],
 "metadata": {
  "kernelspec": {
   "display_name": "Python 3",
   "language": "python",
   "name": "python3"
  },
  "language_info": {
   "codemirror_mode": {
    "name": "ipython",
    "version": 3
   },
   "file_extension": ".py",
   "mimetype": "text/x-python",
   "name": "python",
   "nbconvert_exporter": "python",
   "pygments_lexer": "ipython3",
   "version": "3.8.3"
  }
 },
 "nbformat": 4,
 "nbformat_minor": 4
}
